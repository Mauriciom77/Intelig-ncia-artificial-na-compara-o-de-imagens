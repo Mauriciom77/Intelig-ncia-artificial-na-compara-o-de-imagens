{
 "cells": [
  {
   "cell_type": "markdown",
   "metadata": {},
   "source": [
    "Testes praticos utilizando o comparativo SKImage"
   ]
  },
  {
   "cell_type": "code",
   "execution_count": 2,
   "metadata": {},
   "outputs": [],
   "source": [
    "import cv2\n",
    "from skimage.metrics import structural_similarity as compare_ssim\n",
    "import numpy as np"
   ]
  },
  {
   "cell_type": "markdown",
   "metadata": {},
   "source": [
    "Função para redimencionar as duas imagens para que tenham o mesmo tamanho teste 1"
   ]
  },
  {
   "cell_type": "code",
   "execution_count": 3,
   "metadata": {},
   "outputs": [],
   "source": [
    "# Função para redimensionar a segunda imagem para o tamanho da primeira\n",
    "def resize_second_image_to_match(first_image_path, second_image_path):\n",
    "    # Carregar a primeira imagem\n",
    "    first_image = cv2.imread(first_image_path)\n",
    "    \n",
    "    # Carregar a segunda imagem\n",
    "    second_image = cv2.imread(second_image_path)\n",
    "    \n",
    "    # Obter as dimensões da primeira imagem\n",
    "    height, width = first_image.shape[:2]\n",
    "    \n",
    "    # Redimensionar a segunda imagem para corresponder ao tamanho da primeira\n",
    "    resized_second_image = cv2.resize(second_image, (width, height))\n",
    "    \n",
    "    return first_image, resized_second_image\n"
   ]
  },
  {
   "cell_type": "code",
   "execution_count": 4,
   "metadata": {},
   "outputs": [
    {
     "data": {
      "text/plain": [
       "True"
      ]
     },
     "execution_count": 4,
     "metadata": {},
     "output_type": "execute_result"
    }
   ],
   "source": [
    "# Carregar as duas imagens\n",
    "# imageA = cv2.imread('D:\\Pos_IA\\TCC\\carroa.jpg')\n",
    "# imageB = cv2.imread('D:\\Pos_IA\\TCC\\carrob.jpg')\n",
    "\n",
    "# Caminhos para as imagens\n",
    "first_image_path = 'D:\\Pos_IA\\TCC\\carroa.jpg'\n",
    "second_image_path = 'D:\\Pos_IA\\TCC\\carrob.jpg'\n",
    "\n",
    "# Redimensionar a segunda imagem para corresponder à primeira\n",
    "imageA, imageB = resize_second_image_to_match(first_image_path, second_image_path)\n",
    "\n",
    "# Salvar a segunda imagem redimensionada, se necessário\n",
    "cv2.imwrite('segunda_imagem_redimensionada.png', imageB)"
   ]
  },
  {
   "cell_type": "code",
   "execution_count": 5,
   "metadata": {},
   "outputs": [],
   "source": [
    "# Converter as imagens para escala de cinza\n",
    "grayA = cv2.cvtColor(imageA, cv2.COLOR_BGR2GRAY)\n",
    "grayB = cv2.cvtColor(imageB, cv2.COLOR_BGR2GRAY)"
   ]
  },
  {
   "cell_type": "code",
   "execution_count": 6,
   "metadata": {},
   "outputs": [
    {
     "name": "stdout",
     "output_type": "stream",
     "text": [
      "Similaridade Estrutural: 29.83%\n"
     ]
    }
   ],
   "source": [
    "# Calcular a semelhança estrutural entre as duas imagens\n",
    "(score, diff) = compare_ssim(grayA, grayB, full=True)\n",
    "print(f\"Similaridade Estrutural: {score:.2%}\")"
   ]
  },
  {
   "cell_type": "code",
   "execution_count": 7,
   "metadata": {},
   "outputs": [
    {
     "data": {
      "text/plain": [
       "True"
      ]
     },
     "execution_count": 7,
     "metadata": {},
     "output_type": "execute_result"
    }
   ],
   "source": [
    "## não deu certo\n",
    "# Supondo que grayA e grayB são suas imagens em escala de cinza \n",
    "(score, diff) = compare_ssim(grayA, grayB, full=True)\n",
    "diff = (diff * 255).astype(\"uint8\")\n",
    "\n",
    "# Aplicar threshold para binarizar a imagem de diferença\n",
    "_, thresh = cv2.threshold(diff, 0, 255, cv2.THRESH_BINARY_INV | cv2.THRESH_OTSU)\n",
    "\n",
    "# Aplicar operações morfológicas para remover ruído e destacar as áreas de interesse\n",
    "kernel = np.ones((3,3), np.uint8)\n",
    "dilated = cv2.dilate(thresh, kernel, iterations=1)\n",
    "\n",
    "# Encontrar contornos das áreas diferenciadas\n",
    "contours, _ = cv2.findContours(dilated, cv2.RETR_EXTERNAL, cv2.CHAIN_APPROX_SIMPLE)\n",
    "\n",
    "# Desenhar contornos nas imagens para demarcar as diferenças\n",
    "for contour in contours:\n",
    "    if cv2.contourArea(contour) > 40: # Filtrar pequenos contornos para reduzir ruído\n",
    "        x, y, w, h = cv2.boundingRect(contour)\n",
    "        cv2.rectangle(imageA, (x, y), (x+w, y+h), (0, 0, 255), 2)\n",
    "        cv2.rectangle(imageB, (x, y), (x+w, y+h), (0, 0, 255), 2)\n",
    "\n",
    "# Exibir ou salvar as imagens com as diferenças demarcadas\n",
    "cv2.imwrite('imageA_differences.png', imageA)\n",
    "cv2.imwrite('imageB_differences.png', imageB)\n",
    "# cv2.imshow('imageB_differences', imageA)"
   ]
  },
  {
   "cell_type": "code",
   "execution_count": 8,
   "metadata": {},
   "outputs": [
    {
     "name": "stderr",
     "output_type": "stream",
     "text": [
      "C:\\Users\\Mau77\\AppData\\Local\\Temp\\ipykernel_14584\\1189775290.py:16: DeprecationWarning: Conversion of an array with ndim > 0 to a scalar is deprecated, and will error in future. Ensure you extract a single element from your array before performing this operation. (Deprecated NumPy 1.25.)\n",
      "  max_diff_position = (max_diff, int(histogram1[max_diff]))\n"
     ]
    }
   ],
   "source": [
    "# Converte as imagens em escala cinza\n",
    "gray_img1 = grayA \n",
    "gray_img2 = grayB \n",
    "\n",
    "# Calcula o histograma das imagens\n",
    "histogram1 = cv2.calcHist([gray_img1],[0],None,[256],[0,256])\n",
    "histogram2 = cv2.calcHist([gray_img2],[0],None,[256],[0,256])\n",
    "\n",
    "# Encontra as diferenças entre os histograms\n",
    "differences = np.abs(np.array(histogram1)-np.array(histogram2))\n",
    "\n",
    "# Identifica os pontos mais diferentes\n",
    "max_diff = differences.argmax()\n",
    "\n",
    "# Encontra a posição do ponto de maior diferença\n",
    "max_diff_position = (max_diff, int(histogram1[max_diff]))\n",
    "\n",
    "# Desenha um círculo vermelho no ponto de maior diferença na primeira imagem\n",
    "output_img = imageA.copy()\n",
    "cv2.circle(output_img, (max_diff_position[0], 0), 5, (0, 0, 255), -1)\n",
    "\n",
    "# Mostra a imagem com o ponto de diferença destacado\n",
    "cv2.imshow('Imagem com Ponto de Diferença', output_img)\n",
    "cv2.waitKey(0)\n",
    "cv2.destroyAllWindows()"
   ]
  },
  {
   "cell_type": "code",
   "execution_count": null,
   "metadata": {},
   "outputs": [],
   "source": [
    "# Converte as imagens em escala cinza\n",
    "gray1 = grayA \n",
    "gray2 = grayB \n",
    "\n",
    "# Garantir que as imagens sejam do mesmo tamanho\n",
    "gray1 = cv2.resize(gray1, (imageB.shape[1], imageB.shape[0]))\n",
    "\n",
    "# Calcular a diferença absoluta entre as imagens\n",
    "difference = cv2.absdiff(gray1, gray2)\n",
    "\n",
    "# Limiarização para binarizar a imagem de diferença\n",
    "_, thresh = cv2.threshold(difference, 30, 255, cv2.THRESH_BINARY)\n",
    "\n",
    "# Encontrar contornos\n",
    "contours, _ = cv2.findContours(thresh, cv2.RETR_EXTERNAL, cv2.CHAIN_APPROX_SIMPLE)\n",
    "\n",
    "# Desenhar contornos na imagem original\n",
    "for contour in contours:\n",
    "    if cv2.contourArea(contour) > 100:  # Filtrar pequenas diferenças\n",
    "        x, y, w, h = cv2.boundingRect(contour)\n",
    "        cv2.rectangle(imageA, (x, y), (x + w, y + h), (0, 0, 255), 2)\n",
    "\n",
    "# Salvar ou exibir a imagem resultante\n",
    "cv2.imwrite('/mnt/data/difference_image.png', imageA)\n",
    "cv2.imshow('Differences', imageA)\n",
    "cv2.waitKey(0)\n",
    "cv2.destroyAllWindows()"
   ]
  },
  {
   "cell_type": "code",
   "execution_count": null,
   "metadata": {},
   "outputs": [],
   "source": [
    "# A diferença é uma imagem flutuante, precisamos normalizar para 8-bit para visualizar\n",
    "diff = (diff * 255).astype(\"uint8\")\n",
    "\n",
    "# Alinhando as imagens lado a lado\n",
    "# Redimensionar imagens para o mesmo tamanho para comparação\n",
    "height = max(imageA.shape[0], imageB.shape[0])\n",
    "width = imageA.shape[1] + imageB.shape[1]\n",
    "combined_image = np.zeros((height, width, 3), dtype=np.uint8)"
   ]
  },
  {
   "cell_type": "code",
   "execution_count": null,
   "metadata": {},
   "outputs": [],
   "source": [
    "# Alinhar as imagens lado a lado para comparação\n",
    "combined_image = np.hstack((imageA, imageB))\n",
    "\n",
    "# Salvar a imagem combinada\n",
    "cv2.imwrite('comparacao_lado_a_lado.png', combined_image)\n",
    "\n",
    "# Mostrar a imagem combinada\n",
    "cv2.imshow('Comparacao Lado a Lado', combined_image)\n",
    "cv2.waitKey(0)\n",
    "cv2.destroyAllWindows()"
   ]
  },
  {
   "cell_type": "code",
   "execution_count": null,
   "metadata": {},
   "outputs": [],
   "source": [
    "# Função para redimensionar a segunda imagem para o tamanho da primeira\n",
    "def resize_image_to_match(reference_image, target_image):\n",
    "    # Obter as dimensões da imagem de referência\n",
    "    height, width = reference_image.shape[:2]\n",
    "    # Redimensionar a imagem alvo para corresponder ao tamanho da imagem de referência\n",
    "    resized_image = cv2.resize(target_image, (width, height))\n",
    "    return resized_image"
   ]
  },
  {
   "cell_type": "code",
   "execution_count": null,
   "metadata": {},
   "outputs": [],
   "source": [
    "#Função para realizar o gradiente das duas imagens\n",
    "def gradiente_horizontal(first_image_path, second_image_path):\n",
    "    # Carregar as imagens\n",
    "    first_image = cv2.imread(first_image_path)\n",
    "    second_image = cv2.imread(second_image_path)\n",
    "    \n",
    "    # Redimensionar a segunda imagem para corresponder ao tamanho da primeira\n",
    "    second_image_resized = resize_image_to_match(first_image, second_image)\n",
    "    \n",
    "    # Assegurar que as imagens são do tipo float para combinação\n",
    "    first_image_float = first_image.astype(np.float32)\n",
    "    second_image_float = second_image_resized.astype(np.float32)\n",
    "\n",
    "    # Criar um degradê linear para a transparência\n",
    "    height, width = first_image.shape[:2]\n",
    "    gradient = np.linspace(0.3, 1, width)\n",
    "    gradient = np.tile(gradient, (height, 1))\n",
    "    gradient = np.dstack((gradient, gradient, gradient)).astype(np.float32)\n",
    "\n",
    "    # Aplicar o degradê nas duas imagens\n",
    "    first_image_weighted = cv2.multiply(first_image_float, gradient)\n",
    "    second_image_weighted = cv2.multiply(second_image_float, 1 - gradient)\n",
    "\n",
    "    # Combinar as imagens ponderadas\n",
    "    combined_image_with_gradient = cv2.add(first_image_weighted, second_image_weighted)\n",
    "\n",
    "    # Converter o resultado para uint8 para poder salvar e exibir\n",
    "    combined_image_with_gradient = combined_image_with_gradient.astype(np.uint8)\n",
    "\n",
    "    return combined_image_with_gradient"
   ]
  },
  {
   "cell_type": "code",
   "execution_count": null,
   "metadata": {},
   "outputs": [],
   "source": [
    "# Carregar a primeira imagem e redimensionar a segunda para corresponder\n",
    "first_image = cv2.imread(first_image_path)\n",
    "second_image = cv2.imread(second_image_path)\n",
    "\n",
    "# Chamando a função para o criação da comparação usando gradiente\n",
    "combined_image = gradiente_horizontal('D:\\Pos_IA\\TCC\\carroa_edit.jpg', 'D:\\Pos_IA\\TCC\\carrob_edit.jpg')\n",
    "\n",
    "\n",
    "# Salvar a imagem combinada\n",
    "cv2.imwrite('combinacao_com_degrade.png', combined_image)\n",
    "\n",
    "# Mostrar a imagem combinada\n",
    "cv2.imshow('Combinacao com Degradê', combined_image)\n",
    "cv2.waitKey(0)\n",
    "cv2.destroyAllWindows()\n",
    "\n",
    "\n"
   ]
  },
  {
   "cell_type": "code",
   "execution_count": null,
   "metadata": {},
   "outputs": [],
   "source": [
    "#fazendo um degrade da imagem por completo\n",
    "\n",
    "# Carregar as imagens\n",
    "# first_image_path = 'caminho_para_a_primeira_imagem.png'\n",
    "# second_image_path = 'caminho_para_a_segunda_imagem.png'\n",
    "first_image = cv2.imread(first_image_path)\n",
    "second_image = cv2.imread(second_image_path)\n",
    "\n",
    "# Redimensionar a segunda imagem para corresponder ao tamanho da primeira\n",
    "second_image_resized = resize_image_to_match(first_image, second_image)\n",
    "\n",
    "# Definir a transparência (alfa) para cada imagem\n",
    "alpha_first_image = 0.40  # 85% de transparência para a primeira imagem\n",
    "alpha_second_image = 0.60 # 60% de transparência para a segunda imagem\n",
    "\n",
    "# Calcular o alfa inverso para cada imagem\n",
    "alpha_first_image_inv = 1.0 - alpha_first_image\n",
    "alpha_second_image_inv = 1.0 - alpha_second_image\n",
    "\n",
    "# Combinar as imagens com as transparências especificadas\n",
    "combined_image = cv2.addWeighted(first_image, alpha_first_image, second_image_resized, alpha_second_image_inv, 0)\n",
    "\n",
    "# Salvar e mostrar a imagem combinada\n",
    "cv2.imwrite('combinacao_transparencia.png', combined_image)\n",
    "cv2.imshow('Combinacao com Transparência', combined_image)\n",
    "cv2.waitKey(0)\n",
    "cv2.destroyAllWindows()"
   ]
  },
  {
   "cell_type": "code",
   "execution_count": null,
   "metadata": {},
   "outputs": [],
   "source": [
    "#Alinhando e comparando as 3 imagens (veiculo novo, veiculo batido e um gradiente entre os dois)\n",
    "\n",
    "# Alinhar as imagens lado a lado para comparação\n",
    "combined_image_triple = np.hstack((imageA, imageB, combined_image))\n",
    "\n",
    "# Salvar a imagem combinada\n",
    "cv2.imwrite('combinacao_com_degrade.png', combined_image_triple)\n",
    "\n",
    "# Mostrar a imagem combinada\n",
    "cv2.imshow('Combinacao com Degradê', combined_image_triple)\n",
    "cv2.waitKey(0)\n",
    "cv2.destroyAllWindows()\n",
    "\n"
   ]
  }
 ],
 "metadata": {
  "kernelspec": {
   "display_name": "Python 3",
   "language": "python",
   "name": "python3"
  },
  "language_info": {
   "codemirror_mode": {
    "name": "ipython",
    "version": 3
   },
   "file_extension": ".py",
   "mimetype": "text/x-python",
   "name": "python",
   "nbconvert_exporter": "python",
   "pygments_lexer": "ipython3",
   "version": "3.10.8"
  }
 },
 "nbformat": 4,
 "nbformat_minor": 2
}
